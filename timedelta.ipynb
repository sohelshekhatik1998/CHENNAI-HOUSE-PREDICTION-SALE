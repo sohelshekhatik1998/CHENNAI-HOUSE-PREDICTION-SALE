{
  "nbformat": 4,
  "nbformat_minor": 0,
  "metadata": {
    "colab": {
      "provenance": [],
      "authorship_tag": "ABX9TyOpvEBm/ax8cS+9L7qeecFg",
      "include_colab_link": true
    },
    "kernelspec": {
      "name": "python3",
      "display_name": "Python 3"
    },
    "language_info": {
      "name": "python"
    }
  },
  "cells": [
    {
      "cell_type": "markdown",
      "metadata": {
        "id": "view-in-github",
        "colab_type": "text"
      },
      "source": [
        "<a href=\"https://colab.research.google.com/github/sohelshekhatik1998/CHENNAI-HOUSE-PREDICTION-SALE/blob/main/timedelta.ipynb\" target=\"_parent\"><img src=\"https://colab.research.google.com/assets/colab-badge.svg\" alt=\"Open In Colab\"/></a>"
      ]
    },
    {
      "cell_type": "code",
      "execution_count": null,
      "metadata": {
        "colab": {
          "base_uri": "https://localhost:8080/",
          "height": 200
        },
        "id": "MCdUPNvcSP5q",
        "outputId": "02df55f2-2e1d-4267-ba64-2550c6025de1"
      },
      "outputs": [
        {
          "output_type": "error",
          "ename": "NameError",
          "evalue": "ignored",
          "traceback": [
            "\u001b[0;31m---------------------------------------------------------------------------\u001b[0m",
            "\u001b[0;31mNameError\u001b[0m                                 Traceback (most recent call last)",
            "\u001b[0;32m<ipython-input-1-af758ff47c4a>\u001b[0m in \u001b[0;36m<module>\u001b[0;34m\u001b[0m\n\u001b[1;32m      2\u001b[0m \u001b[0;32mfrom\u001b[0m \u001b[0mdateutil\u001b[0m\u001b[0;34m.\u001b[0m\u001b[0mrelativedelta\u001b[0m \u001b[0;32mimport\u001b[0m \u001b[0mrelativedelta\u001b[0m\u001b[0;34m,\u001b[0m \u001b[0mMO\u001b[0m\u001b[0;34m\u001b[0m\u001b[0;34m\u001b[0m\u001b[0m\n\u001b[1;32m      3\u001b[0m \u001b[0;34m\u001b[0m\u001b[0m\n\u001b[0;32m----> 4\u001b[0;31m \u001b[0mdate\u001b[0m\u001b[0;34m(\u001b[0m\u001b[0;36m2003\u001b[0m\u001b[0;34m,\u001b[0m\u001b[0;36m1\u001b[0m\u001b[0;34m,\u001b[0m\u001b[0;36m27\u001b[0m\u001b[0;34m)\u001b[0m\u001b[0;34m+\u001b[0m\u001b[0mrelativedelta\u001b[0m\u001b[0;34m(\u001b[0m\u001b[0mmonths\u001b[0m\u001b[0;34m=\u001b[0m\u001b[0;34m+\u001b[0m\u001b[0;36m1\u001b[0m\u001b[0;34m)\u001b[0m\u001b[0;34m\u001b[0m\u001b[0;34m\u001b[0m\u001b[0m\n\u001b[0m",
            "\u001b[0;31mNameError\u001b[0m: name 'date' is not defined"
          ]
        }
      ],
      "source": [
        "from datetime import datetime\n",
        "from dateutil.relativedelta import relativedelta, MO\n",
        "exp_date=str(input())\n",
        "month=int(input())\n",
        "cost=int(input())\n",
        "\n",
        "if exp_date>=1\n"
      ]
    },
    {
      "cell_type": "code",
      "source": [
        "# Python3 program two find number of\n",
        "# days between two given dates\n",
        "\n",
        "# A date has day 'd', month 'm' and year 'y'\n",
        "\n",
        "\n",
        "class Date:\n",
        "\tdef __init__(self, d, m, y):\n",
        "\t\tself.d = d\n",
        "\t\tself.m = m\n",
        "\t\tself.y = y\n",
        "\n",
        "\n",
        "# To store number of days in all months from\n",
        "# January to Dec.\n",
        "monthDays = [31, 28, 31, 30, 31, 30,\n",
        "\t\t\t31, 31, 30, 31, 30, 31]\n",
        "\n",
        "# This function counts number of leap years\n",
        "# before the given date\n",
        "\n",
        "\n",
        "def countLeapYears(d):\n",
        "\n",
        "\tyears = d.y\n",
        "\n",
        "\t# Check if the current year needs to be considered\n",
        "\t# for the count of leap years or not\n",
        "\tif (d.m <= 2):\n",
        "\t\tyears -= 1\n",
        "\n",
        "\t# An year is a leap year if it is a multiple of 4,\n",
        "\t# multiple of 400 and not a multiple of 100.\n",
        "\treturn int(years / 4) - int(years / 100) + int(years / 400)\n",
        "\n",
        "\n",
        "# This function returns number of days between two\n",
        "# given dates\n",
        "def getDifference(dt1, dt2):\n",
        "\n",
        "\t# COUNT TOTAL NUMBER OF DAYS BEFORE FIRST DATE 'dt1'\n",
        "\n",
        "\t# initialize count using years and day\n",
        "\tn1 = dt1.y * 365 + dt1.d\n",
        "\n",
        "\t# Add days for months in given date\n",
        "\tfor i in range(0, dt1.m - 1):\n",
        "\t\tn1 += monthDays[i]\n",
        "\n",
        "\t# Since every leap year is of 366 days,\n",
        "\t# Add a day for every leap year\n",
        "\tn1 += countLeapYears(dt1)\n",
        "\n",
        "\t# SIMILARLY, COUNT TOTAL NUMBER OF DAYS BEFORE 'dt2'\n",
        "\n",
        "\tn2 = dt2.y * 365 + dt2.d\n",
        "\tfor i in range(0, dt2.m - 1):\n",
        "\t\tn2 += monthDays[i]\n",
        "\tn2 += countLeapYears(dt2)\n",
        "\n",
        "\t# return difference between two counts\n",
        "\treturn (n2 - n1)\n",
        "\n",
        "\n",
        "# Driver program\n",
        "dt1 = Date(13, 12, 2018)\n",
        "dt2 = Date(25, 2, 2019)\n",
        "\n",
        "print(getDifference(dt1, dt2), \"days\")\n"
      ],
      "metadata": {
        "colab": {
          "base_uri": "https://localhost:8080/"
        },
        "id": "ytPgbXUneNze",
        "outputId": "a2513f5d-5cf8-48c4-d9e4-6d56733aa75b"
      },
      "execution_count": null,
      "outputs": [
        {
          "output_type": "stream",
          "name": "stdout",
          "text": [
            "74 days\n"
          ]
        }
      ]
    },
    {
      "cell_type": "code",
      "source": [
        "from datetime import date\n",
        "\n",
        "from dateutil.relativedelta import relativedelta, MO\n",
        "def total_subcription(expiry_date,total_cost): \n",
        "  f_date+relativedelta(months=+1)\n",
        "  \n",
        "  if f_date>= f_date<15:\n",
        "    return l_date - f_date\n",
        "f_date = date(2022,6,19)\n",
        "l_date = date(2022, 7, 15)\n",
        "month_bye=int(input())\n",
        "month_bye_days=month_bye*30\n",
        "bye_cost_per_month=int(input())\n",
        "\n",
        "c= total_subcription(expiry_date,total_cost)"
      ],
      "metadata": {
        "colab": {
          "base_uri": "https://localhost:8080/",
          "height": 235
        },
        "id": "sIpyYJlhan9s",
        "outputId": "a90f8c58-03bb-43f0-81f0-0e8ddfb536a9"
      },
      "execution_count": 3,
      "outputs": [
        {
          "name": "stdout",
          "output_type": "stream",
          "text": [
            "6\n",
            "500\n"
          ]
        },
        {
          "output_type": "error",
          "ename": "NameError",
          "evalue": "ignored",
          "traceback": [
            "\u001b[0;31m---------------------------------------------------------------------------\u001b[0m",
            "\u001b[0;31mNameError\u001b[0m                                 Traceback (most recent call last)",
            "\u001b[0;32m<ipython-input-3-7db910a140e9>\u001b[0m in \u001b[0;36m<module>\u001b[0;34m\u001b[0m\n\u001b[1;32m     13\u001b[0m \u001b[0mbye_cost_per_month\u001b[0m\u001b[0;34m=\u001b[0m\u001b[0mint\u001b[0m\u001b[0;34m(\u001b[0m\u001b[0minput\u001b[0m\u001b[0;34m(\u001b[0m\u001b[0;34m)\u001b[0m\u001b[0;34m)\u001b[0m\u001b[0;34m\u001b[0m\u001b[0;34m\u001b[0m\u001b[0m\n\u001b[1;32m     14\u001b[0m \u001b[0;34m\u001b[0m\u001b[0m\n\u001b[0;32m---> 15\u001b[0;31m \u001b[0mc\u001b[0m\u001b[0;34m=\u001b[0m \u001b[0mtotal_subcription\u001b[0m\u001b[0;34m(\u001b[0m\u001b[0mexpiry_date\u001b[0m\u001b[0;34m,\u001b[0m\u001b[0mtotal_cost\u001b[0m\u001b[0;34m)\u001b[0m\u001b[0;34m\u001b[0m\u001b[0;34m\u001b[0m\u001b[0m\n\u001b[0m",
            "\u001b[0;31mNameError\u001b[0m: name 'expiry_date' is not defined"
          ]
        }
      ]
    },
    {
      "cell_type": "code",
      "source": [
        "from datetime import date\n",
        "\n",
        "from dateutil.relativedelta import relativedelta, MO\n",
        "date(2010,12,31)+relativedelta(months=+1)\n",
        "datetime.date(2011, 1, 31)\n",
        "\n"
      ],
      "metadata": {
        "colab": {
          "base_uri": "https://localhost:8080/",
          "height": 200
        },
        "id": "i5fFmTixlUdc",
        "outputId": "c8cd09e4-4db8-4d1c-947b-d157bd9b2a80"
      },
      "execution_count": null,
      "outputs": [
        {
          "output_type": "error",
          "ename": "TypeError",
          "evalue": "ignored",
          "traceback": [
            "\u001b[0;31m---------------------------------------------------------------------------\u001b[0m",
            "\u001b[0;31mTypeError\u001b[0m                                 Traceback (most recent call last)",
            "\u001b[0;32m<ipython-input-10-180fbc3eb2d9>\u001b[0m in \u001b[0;36m<module>\u001b[0;34m\u001b[0m\n\u001b[1;32m      3\u001b[0m \u001b[0;32mfrom\u001b[0m \u001b[0mdateutil\u001b[0m\u001b[0;34m.\u001b[0m\u001b[0mrelativedelta\u001b[0m \u001b[0;32mimport\u001b[0m \u001b[0mrelativedelta\u001b[0m\u001b[0;34m,\u001b[0m \u001b[0mMO\u001b[0m\u001b[0;34m\u001b[0m\u001b[0;34m\u001b[0m\u001b[0m\n\u001b[1;32m      4\u001b[0m \u001b[0mdate\u001b[0m\u001b[0;34m(\u001b[0m\u001b[0;36m2010\u001b[0m\u001b[0;34m,\u001b[0m\u001b[0;36m12\u001b[0m\u001b[0;34m,\u001b[0m\u001b[0;36m31\u001b[0m\u001b[0;34m)\u001b[0m\u001b[0;34m+\u001b[0m\u001b[0mrelativedelta\u001b[0m\u001b[0;34m(\u001b[0m\u001b[0mmonths\u001b[0m\u001b[0;34m=\u001b[0m\u001b[0;34m+\u001b[0m\u001b[0;36m1\u001b[0m\u001b[0;34m)\u001b[0m\u001b[0;34m\u001b[0m\u001b[0;34m\u001b[0m\u001b[0m\n\u001b[0;32m----> 5\u001b[0;31m \u001b[0mdatetime\u001b[0m\u001b[0;34m.\u001b[0m\u001b[0mdate\u001b[0m\u001b[0;34m(\u001b[0m\u001b[0;36m2011\u001b[0m\u001b[0;34m,\u001b[0m \u001b[0;36m1\u001b[0m\u001b[0;34m,\u001b[0m \u001b[0;36m31\u001b[0m\u001b[0;34m)\u001b[0m\u001b[0;34m\u001b[0m\u001b[0;34m\u001b[0m\u001b[0m\n\u001b[0m",
            "\u001b[0;31mTypeError\u001b[0m: descriptor 'date' requires a 'datetime.datetime' object but received a 'int'"
          ]
        }
      ]
    },
    {
      "cell_type": "code",
      "source": [
        "\n",
        "\n",
        "\n",
        "\n",
        "\n",
        "f_date = date(2022, 7, 15 )\n",
        "\n",
        "#delta = s - f_date\n",
        "#d =timedelta(days=n)-date.day(delta)\n",
        "#print(d)\n",
        "\n",
        "\n",
        "\n",
        "#print(delta.days)\n",
        "print(s.strftime(\"%d/%m/%y\"))"
      ],
      "metadata": {
        "colab": {
          "base_uri": "https://localhost:8080/",
          "height": 269
        },
        "id": "KzVJGmbEn7Yy",
        "outputId": "503cd01f-6959-41f7-9722-92ac492dd74c"
      },
      "execution_count": null,
      "outputs": [
        {
          "name": "stdout",
          "output_type": "stream",
          "text": [
            "1\n",
            "1000\n"
          ]
        },
        {
          "output_type": "error",
          "ename": "TypeError",
          "evalue": "ignored",
          "traceback": [
            "\u001b[0;31m---------------------------------------------------------------------------\u001b[0m",
            "\u001b[0;31mTypeError\u001b[0m                                 Traceback (most recent call last)",
            "\u001b[0;32m<ipython-input-78-37918428336b>\u001b[0m in \u001b[0;36m<module>\u001b[0;34m\u001b[0m\n\u001b[1;32m     11\u001b[0m \u001b[0mg\u001b[0m\u001b[0;34m=\u001b[0m\u001b[0;36m2022\u001b[0m\u001b[0;34m,\u001b[0m \u001b[0;36m6\u001b[0m\u001b[0;34m,\u001b[0m \u001b[0;36m19\u001b[0m\u001b[0;34m\u001b[0m\u001b[0;34m\u001b[0m\u001b[0m\n\u001b[1;32m     12\u001b[0m \u001b[0;34m\u001b[0m\u001b[0m\n\u001b[0;32m---> 13\u001b[0;31m \u001b[0ms\u001b[0m\u001b[0;34m=\u001b[0m\u001b[0mdate\u001b[0m\u001b[0;34m(\u001b[0m\u001b[0mg\u001b[0m\u001b[0;34m)\u001b[0m\u001b[0;34m+\u001b[0m\u001b[0mrelativedelta\u001b[0m\u001b[0;34m(\u001b[0m\u001b[0mdays\u001b[0m\u001b[0;34m=\u001b[0m\u001b[0;34m+\u001b[0m\u001b[0mm\u001b[0m\u001b[0;34m)\u001b[0m\u001b[0;34m\u001b[0m\u001b[0;34m\u001b[0m\u001b[0m\n\u001b[0m\u001b[1;32m     14\u001b[0m \u001b[0mf_date\u001b[0m \u001b[0;34m=\u001b[0m \u001b[0mdate\u001b[0m\u001b[0;34m(\u001b[0m\u001b[0;36m2022\u001b[0m\u001b[0;34m,\u001b[0m \u001b[0;36m7\u001b[0m\u001b[0;34m,\u001b[0m \u001b[0;36m15\u001b[0m \u001b[0;34m)\u001b[0m\u001b[0;34m\u001b[0m\u001b[0;34m\u001b[0m\u001b[0m\n\u001b[1;32m     15\u001b[0m \u001b[0;34m\u001b[0m\u001b[0m\n",
            "\u001b[0;31mTypeError\u001b[0m: an integer is required (got type tuple)"
          ]
        }
      ]
    },
    {
      "cell_type": "code",
      "source": [
        "1from datetime import datetime, timedelta\n",
        "    \n",
        "d = s- timedelta(15)\n"
      ],
      "metadata": {
        "colab": {
          "base_uri": "https://localhost:8080/"
        },
        "id": "4KmG1gSs57W5",
        "outputId": "bb4de513-8040-4ce9-8c93-6238b00610fe"
      },
      "execution_count": null,
      "outputs": [
        {
          "output_type": "execute_result",
          "data": {
            "text/plain": [
              "datetime.date(2022, 7, 4)"
            ]
          },
          "metadata": {},
          "execution_count": 58
        }
      ]
    },
    {
      "cell_type": "code",
      "source": [
        "#get first and last day of this and last month)\n",
        "today = dt.date.today()\n",
        "n=int(input())\n",
        "b=int(input())\n",
        "first_day_this_month = dt.date(day=1, month=n, year=b)\n",
        "last_day_last_month = first_day_this_month + relativedelta(days=14)\n",
        "print (first_day_this_month, last_day_last_month)\n",
        "#h=s-last_day_last_month\n",
        "#print(h)"
      ],
      "metadata": {
        "colab": {
          "base_uri": "https://localhost:8080/"
        },
        "id": "7dakAhp7RrOe",
        "outputId": "a85b252f-11df-4cc7-ae34-495bb176de99"
      },
      "execution_count": null,
      "outputs": [
        {
          "output_type": "stream",
          "name": "stdout",
          "text": [
            "1\n",
            "2000\n",
            "2000-01-01 2000-01-15\n"
          ]
        }
      ]
    },
    {
      "cell_type": "code",
      "source": [
        "import datetime as dt\n",
        "from dateutil.relativedelta import relativedelta\n",
        "from datetime import date\n",
        "from dateutil.relativedelta import relativedelta, MO\n",
        "import calendar\n",
        "import datetime\n",
        "from datetime import datetime, timedelta\n",
        "datetime_str=str(input())\n",
        "n=int(input())\n",
        "cost=int(input())\n",
        "m=n*30\n",
        "f=cost/30\n",
        "datetime_object = datetime.strptime(datetime_str,'%m/%d/%y')\n",
        "s=datetime_object+relativedelta(days=+m)\n",
        "datetime_date_object = datetime.date(s)\n",
        "k=[]\n",
        "m=[]\n",
        "\n",
        "day1=dt.date(day=1,month=7,year=2022)\n",
        "datetime_date_object1= datetime.date(day1)\n",
        "day2=dt.date(day=15,month=7,year=2022)\n",
        "datetime_date_object2= datetime.date(day2)\n",
        "\n",
        "\n",
        "if s>=(datetime_date_object1) or s<(datetime_date_object2):\n",
        "  print(k.append(date(year=2022,month=7,day=1)))\n",
        "else:\n",
        "  print(m.append(dt.date(year=2022, month=7,day=15)))\n",
        "print(s)\n",
        "print(datetime_date_object)"
      ],
      "metadata": {
        "colab": {
          "base_uri": "https://localhost:8080/",
          "height": 269
        },
        "id": "rxm1qInY_TMf",
        "outputId": "70a694f3-6d2a-4a15-8870-02cbb28eb821"
      },
      "execution_count": 6,
      "outputs": [
        {
          "name": "stdout",
          "output_type": "stream",
          "text": [
            " hhjbjhhjhj\n",
            "544m\n"
          ]
        },
        {
          "output_type": "error",
          "ename": "ValueError",
          "evalue": "ignored",
          "traceback": [
            "\u001b[0;31m---------------------------------------------------------------------------\u001b[0m",
            "\u001b[0;31mValueError\u001b[0m                                Traceback (most recent call last)",
            "\u001b[0;32m<ipython-input-6-6d878376d894>\u001b[0m in \u001b[0;36m<module>\u001b[0;34m\u001b[0m\n\u001b[1;32m      7\u001b[0m \u001b[0;32mfrom\u001b[0m \u001b[0mdatetime\u001b[0m \u001b[0;32mimport\u001b[0m \u001b[0mdatetime\u001b[0m\u001b[0;34m,\u001b[0m \u001b[0mtimedelta\u001b[0m\u001b[0;34m\u001b[0m\u001b[0;34m\u001b[0m\u001b[0m\n\u001b[1;32m      8\u001b[0m \u001b[0mdatetime_str\u001b[0m\u001b[0;34m=\u001b[0m\u001b[0mstr\u001b[0m\u001b[0;34m(\u001b[0m\u001b[0minput\u001b[0m\u001b[0;34m(\u001b[0m\u001b[0;34m)\u001b[0m\u001b[0;34m)\u001b[0m\u001b[0;34m\u001b[0m\u001b[0;34m\u001b[0m\u001b[0m\n\u001b[0;32m----> 9\u001b[0;31m \u001b[0mn\u001b[0m\u001b[0;34m=\u001b[0m\u001b[0mint\u001b[0m\u001b[0;34m(\u001b[0m\u001b[0minput\u001b[0m\u001b[0;34m(\u001b[0m\u001b[0;34m)\u001b[0m\u001b[0;34m)\u001b[0m\u001b[0;34m\u001b[0m\u001b[0;34m\u001b[0m\u001b[0m\n\u001b[0m\u001b[1;32m     10\u001b[0m \u001b[0mcost\u001b[0m\u001b[0;34m=\u001b[0m\u001b[0mint\u001b[0m\u001b[0;34m(\u001b[0m\u001b[0minput\u001b[0m\u001b[0;34m(\u001b[0m\u001b[0;34m)\u001b[0m\u001b[0;34m)\u001b[0m\u001b[0;34m\u001b[0m\u001b[0;34m\u001b[0m\u001b[0m\n\u001b[1;32m     11\u001b[0m \u001b[0mm\u001b[0m\u001b[0;34m=\u001b[0m\u001b[0mn\u001b[0m\u001b[0;34m*\u001b[0m\u001b[0;36m30\u001b[0m\u001b[0;34m\u001b[0m\u001b[0;34m\u001b[0m\u001b[0m\n",
            "\u001b[0;31mValueError\u001b[0m: invalid literal for int() with base 10: '544m'"
          ]
        }
      ]
    },
    {
      "cell_type": "code",
      "source": [
        "import datetime \n",
        "def calculate_subcription(expiry_date,months_to_buy,monthly_cost):\n",
        "  if expiry_date>"
      ],
      "metadata": {
        "id": "OzzJYIzH1Wm-"
      },
      "execution_count": null,
      "outputs": []
    },
    {
      "cell_type": "code",
      "source": [
        "from datetime import *\n",
        "item_date = datetime.strptime('7/16/10', \"%m/%d/%y\")\n",
        "from_date = date.today()-timedelta(days=3)\n",
        "print type(item_date)\n",
        "\n",
        " print type(from_date)\n",
        "<type 'datetime.date'>\n",
        "if item_date > from_date:\n",
        "     print 'item is newer'"
      ],
      "metadata": {
        "id": "t1kF5c0YA-YD"
      },
      "execution_count": null,
      "outputs": []
    },
    {
      "cell_type": "code",
      "source": [
        "if effective_date !=\"\" and try_flag==0:\n",
        "  try:\n",
        "    day=int(effective_date[1])\n",
        "    month=int(effective_date[0])\n",
        "    year=int(effective_date[2])\n",
        "    eff_date=date(year,month,day)\n",
        "    eff_date=eff_date-timedelta(day)"
      ],
      "metadata": {
        "id": "EeCeQFR4BVPI"
      },
      "execution_count": null,
      "outputs": []
    },
    {
      "cell_type": "code",
      "source": [
        "from datetime import date\n",
        "from dateutil.relativedelta import relativedelta\n",
        "\n",
        "\n",
        "def calculate_subs(d,months_subs,cost_subs_per_month):\n",
        "    if months_subs==1:\n",
        "        cost_per_day=1000/30\n",
        "        days=26\n",
        "        cost_subs_per_month=round(days*cost_per_day,2)\n",
        "        updated_date=d+relativedelta(days=26)\n",
        "        print(updated_date.strftime('%d/%m/%y'),cost_subs_per_month)\n",
        "    if months_subs==3:\n",
        "        cost_per_day=400/30\n",
        "        days=89\n",
        "        cost_subs_per_month=round(days*cost_per_day,2)\n",
        "        updated_date=d+relativedelta(days=90)\n",
        "        print(updated_date.strftime('%d/%m/%Y'),cost_subs_per_month)\n",
        "\n",
        "date_components=input('Enter a Date formatted as DD/MM/YYYY : ').split('/')\n",
        "year,month,day=[int(item) for item in date_components]\n",
        "d=date(day,month,year)\n",
        "\n",
        "months_subs=int(input())\n",
        "cost_subs_per_month=int(input())\n",
        "\n",
        "\n",
        "calculate_subs(d,months_subs,cost_subs_per_month)"
      ],
      "metadata": {
        "colab": {
          "base_uri": "https://localhost:8080/"
        },
        "id": "x99-DS9ADgiB",
        "outputId": "f50d05a5-e7cd-47fa-ec6e-76db699becf4"
      },
      "execution_count": 11,
      "outputs": [
        {
          "output_type": "stream",
          "name": "stdout",
          "text": [
            "Enter a Date formatted as DD/MM/YYYY : 3/06/2022\n",
            "3\n",
            "400\n",
            "01/09/2022 1186.67\n"
          ]
        }
      ]
    },
    {
      "cell_type": "markdown",
      "source": [
        "expiry date:\n",
        "if date>=1 and <15 :\n",
        "print(1)\n",
        "else:\n",
        "print(15)"
      ],
      "metadata": {
        "id": "pP4aZgx1ViDX"
      }
    }
  ]
}